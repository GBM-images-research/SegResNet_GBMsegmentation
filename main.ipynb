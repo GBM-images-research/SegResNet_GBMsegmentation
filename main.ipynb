{
 "cells": [
  {
   "cell_type": "code",
   "execution_count": 1,
   "metadata": {},
   "outputs": [],
   "source": [
    "%load_ext autoreload\n",
    "%autoreload 2"
   ]
  },
  {
   "cell_type": "code",
   "execution_count": 21,
   "metadata": {},
   "outputs": [],
   "source": [
    "from src.generate_batchs import train_val_batchloader, MRIDataset\n",
    "from src import config\n",
    "import torch\n",
    "import torch.nn as nn\n",
    "from torch.utils.data import DataLoader\n",
    "from torch.utils.data.sampler import SubsetRandomSampler\n",
    "import numpy as np\n",
    "\n",
    "import os\n"
   ]
  },
  {
   "cell_type": "code",
   "execution_count": 19,
   "metadata": {},
   "outputs": [],
   "source": [
    "data_train, data_validation= train_val_batchloader(config.DATASET_ROOT_PATH)"
   ]
  },
  {
   "cell_type": "code",
   "execution_count": 21,
   "metadata": {},
   "outputs": [
    {
     "name": "stdout",
     "output_type": "stream",
     "text": [
      "torch.Size([2, 3, 240, 240, 155])\n"
     ]
    }
   ],
   "source": [
    "for batch in data_train:\n",
    "    print((batch[0].shape))\n",
    "    break"
   ]
  },
  {
   "cell_type": "code",
   "execution_count": 22,
   "metadata": {},
   "outputs": [],
   "source": [
    "dataset = MRIDataset(config.DATASET_ROOT_PATH)\n",
    "dataloader = torch.utils.data.DataLoader(dataset, batch_size=4, collate_fn=dataset.collate_fn) #collate_fn=dataset.collate_fn\n",
    "\n",
    "train_features, train_labels = next(iter(dataloader))\n"
   ]
  },
  {
   "cell_type": "code",
   "execution_count": 23,
   "metadata": {},
   "outputs": [
    {
     "name": "stdout",
     "output_type": "stream",
     "text": [
      "torch.Size([320, 3, 60, 60, 31])\n",
      "torch.Size([320, 3, 60, 60, 31])\n"
     ]
    }
   ],
   "source": [
    "print(train_features.shape)\n",
    "print(train_labels.shape)"
   ]
  },
  {
   "cell_type": "code",
   "execution_count": 19,
   "metadata": {},
   "outputs": [
    {
     "name": "stdout",
     "output_type": "stream",
     "text": [
      "torch.Size([4, 1, 240, 240, 155])\n"
     ]
    }
   ],
   "source": [
    "for batch in dataloader:\n",
    "    print((batch[1].shape))\n",
    "    break"
   ]
  },
  {
   "cell_type": "code",
   "execution_count": 36,
   "metadata": {},
   "outputs": [],
   "source": [
    "# Definir el modelo U-Net\n",
    "class Unet3D(nn.Module):\n",
    "    def __init__(self, in_channels, out_channels):\n",
    "        super(Unet3D, self).__init__()\n",
    "\n",
    "        # Codificador (downsampling)\n",
    "        self.encoder1 = nn.Sequential(\n",
    "            nn.Conv3d(in_channels, 64, kernel_size=3, padding=1),\n",
    "            nn.BatchNorm3d(64),\n",
    "            nn.ReLU(inplace=True),\n",
    "            nn.Conv3d(64, 64, kernel_size=3, padding=1),\n",
    "            nn.BatchNorm3d(64),\n",
    "            nn.ReLU(inplace=True)\n",
    "        )\n",
    "\n",
    "        self.encoder2 = nn.Sequential(\n",
    "            nn.MaxPool3d(kernel_size=2, stride=2),\n",
    "            nn.Conv3d(64, 128, kernel_size=3, padding=1),\n",
    "            nn.BatchNorm3d(128),\n",
    "            nn.ReLU(inplace=True),\n",
    "            nn.Conv3d(128, 128, kernel_size=3, padding=1),\n",
    "            nn.BatchNorm3d(128),\n",
    "            nn.ReLU(inplace=True)\n",
    "        )\n",
    "\n",
    "        # Decodificador (upsampling)\n",
    "        self.decoder1 = nn.Sequential(\n",
    "            nn.Conv3d(128, 64, kernel_size=3, padding=1),\n",
    "            nn.BatchNorm3d(64),\n",
    "            nn.ReLU(inplace=True),\n",
    "            nn.Conv3d(64, 64, kernel_size=3, padding=1),\n",
    "            nn.BatchNorm3d(64),\n",
    "            nn.ReLU(inplace=True)\n",
    "        )\n",
    "\n",
    "        self.decoder2 = nn.Sequential(\n",
    "            nn.ConvTranspose3d(128, 64, kernel_size=2, stride=2),\n",
    "            nn.Conv3d(64, 64, kernel_size=3, padding=1),\n",
    "            nn.BatchNorm3d(64),\n",
    "            nn.ReLU(inplace=True),\n",
    "            nn.Conv3d(64, out_channels, kernel_size=1),\n",
    "            nn.Softmax(dim=1)  # Salida con múltiples canales, usar Softmax\n",
    "        )\n",
    "\n",
    "    def forward(self, x):\n",
    "        # Codificación\n",
    "        enc1 = self.encoder1(x)\n",
    "        enc2 = self.encoder2(enc1)\n",
    "\n",
    "        # Decodificación\n",
    "        dec1 = self.decoder1(enc2)\n",
    "        dec2 = self.decoder2(torch.cat([dec1, enc1], dim=1))\n",
    "\n",
    "        return dec2\n",
    "\n",
    "# Crea una instancia del modelo\n",
    "model = Unet3D(in_channels=3, out_channels=4) \n"
   ]
  },
  {
   "cell_type": "code",
   "execution_count": null,
   "metadata": {},
   "outputs": [],
   "source": [
    "device = torch.device(\"cuda\" if torch.cuda.is_available() else \"cpu\")  # Verificar si hay GPU disponible\n",
    "\n",
    "# Definir función de pérdida y optimizador\n",
    "criterion = nn.CrossEntropyLoss\n",
    "optimizer = torch.optim.Adam(model.parameters(), lr=0.001)\n",
    "\n",
    "# Bucle de entrenamiento y validación\n",
    "num_epochs = 1\n",
    "\n",
    "for epoch in range(num_epochs):\n",
    "    # Fase de entrenamiento\n",
    "    model.train()\n",
    "    for inputs, labels in data_train:\n",
    "        inputs = inputs.to(device)\n",
    "        labels = labels.to(device)\n",
    "\n",
    "        # Paso de adelante y cálculo de la pérdida\n",
    "        outputs = model(inputs)\n",
    "        loss = criterion(outputs, labels)\n",
    "\n",
    "        # Retropropagación y actualización de los pesos\n",
    "        optimizer.zero_grad()\n",
    "        loss.backward()\n",
    "        optimizer.step()\n",
    "\n",
    "    # Fase de validación\n",
    "    model.eval()\n",
    "    with torch.no_grad():\n",
    "        validation_loss = 0.0\n",
    "        for inputs_val, labels_val in data_validation:\n",
    "            inputs_val = inputs_val.to(device)\n",
    "            labels_val = labels_val.to(device)\n",
    "\n",
    "            # Paso de adelante y cálculo de la pérdida\n",
    "            outputs_val = model(inputs_val)\n",
    "            loss_val = criterion(outputs_val, labels_val)\n",
    "            validation_loss += loss_val.item()\n",
    "\n",
    "        # Calcular la pérdida promedio en la validación\n",
    "        validation_loss /= len(data_validation)\n",
    "\n",
    "    # Imprimir métricas de entrenamiento y validación\n",
    "    print(f\"Epoch {epoch+1}/{num_epochs} - Training Loss: {loss.item():.4f} - Validation Loss: {validation_loss:.4f}\")\n"
   ]
  },
  {
   "cell_type": "code",
   "execution_count": 25,
   "metadata": {},
   "outputs": [],
   "source": [
    "x=[]"
   ]
  },
  {
   "cell_type": "code",
   "execution_count": 28,
   "metadata": {},
   "outputs": [],
   "source": [
    "X_patches = torch.split(X, 31, dim=3)\n",
    "X_patches = [torch.split(patch, 60, dim=2) for patch in X_patches]\n",
    "X_patches = [item for sublist in X_patches for item in sublist]\n",
    "X_patches = [torch.split(patch, 60, dim=1) for patch in X_patches]\n",
    "X_patches = [item for sublist in X_patches for item in sublist]\n",
    "\n",
    "Y_patches = torch.split(Y, 31, dim=3)\n",
    "Y_patches = [torch.split(patch, 60, dim=2) for patch in Y_patches]\n",
    "Y_patches = [item for sublist in Y_patches for item in sublist]\n",
    "Y_patches = [torch.split(patch, 60, dim=1) for patch in Y_patches]\n",
    "Y_patches = [item for sublist in Y_patches for item in sublist]\n",
    "\n",
    "X_patches = torch.stack(X_patches, dim=0)\n",
    "Y_patches = torch.stack(Y_patches, dim=0)\n",
    "\n",
    "x.append(X_patches)"
   ]
  },
  {
   "cell_type": "code",
   "execution_count": 31,
   "metadata": {},
   "outputs": [],
   "source": [
    "x=torch.cat((x), dim=0)"
   ]
  },
  {
   "cell_type": "code",
   "execution_count": 32,
   "metadata": {},
   "outputs": [
    {
     "data": {
      "text/plain": [
       "torch.Size([160, 3, 60, 60, 31])"
      ]
     },
     "execution_count": 32,
     "metadata": {},
     "output_type": "execute_result"
    }
   ],
   "source": [
    "x.shape"
   ]
  }
 ],
 "metadata": {
  "kernelspec": {
   "display_name": "unsup-seg-gbm-nLgqUjZ0-py3.11",
   "language": "python",
   "name": "python3"
  },
  "language_info": {
   "codemirror_mode": {
    "name": "ipython",
    "version": 3
   },
   "file_extension": ".py",
   "mimetype": "text/x-python",
   "name": "python",
   "nbconvert_exporter": "python",
   "pygments_lexer": "ipython3",
   "version": "3.11.4"
  },
  "orig_nbformat": 4
 },
 "nbformat": 4,
 "nbformat_minor": 2
}
